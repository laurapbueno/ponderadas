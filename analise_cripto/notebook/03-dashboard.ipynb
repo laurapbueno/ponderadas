{
 "cells": [
  {
   "cell_type": "code",
   "execution_count": 3,
   "metadata": {},
   "outputs": [
    {
     "data": {
      "text/html": [
       "\n",
       "        <iframe\n",
       "            width=\"100%\"\n",
       "            height=\"650\"\n",
       "            src=\"http://127.0.0.1:8050/\"\n",
       "            frameborder=\"0\"\n",
       "            allowfullscreen\n",
       "            \n",
       "        ></iframe>\n",
       "        "
      ],
      "text/plain": [
       "<IPython.lib.display.IFrame at 0x7ff69a304320>"
      ]
     },
     "metadata": {},
     "output_type": "display_data"
    },
    {
     "ename": "",
     "evalue": "",
     "output_type": "error",
     "traceback": [
      "\u001b[1;31mThe Kernel crashed while executing code in the current cell or a previous cell. \n",
      "\u001b[1;31mPlease review the code in the cell(s) to identify a possible cause of the failure. \n",
      "\u001b[1;31mClick <a href='https://aka.ms/vscodeJupyterKernelCrash'>here</a> for more info. \n",
      "\u001b[1;31mView Jupyter <a href='command:jupyter.viewOutput'>log</a> for further details."
     ]
    }
   ],
   "source": [
    "import dash\n",
    "from dash import dcc, html\n",
    "import dash_bootstrap_components as dbc\n",
    "import pandas as pd\n",
    "import plotly.express as px\n",
    "from dash.dependencies import Input, Output\n",
    "\n",
    "# Inicializando a app Dash\n",
    "app = dash.Dash(__name__, external_stylesheets=[dbc.themes.BOOTSTRAP])\n",
    "\n",
    "\n",
    "btc_df = pd.read_csv('../data/raw/coin_Bitcoin.csv')\n",
    "eos_df = pd.read_csv('../data/raw/coin_EOS.csv')\n",
    "sol_df = pd.read_csv('../data/raw/coin_Solana.csv')\n",
    "\n",
    "\n",
    "app.layout = dbc.Container([\n",
    "    dbc.Row([\n",
    "        dbc.Col(html.H1(\"Dashboard de Previsão de Criptomoedas\", className=\"text-center\"), width=12)\n",
    "    ]),\n",
    "    \n",
    "    dbc.Row([\n",
    "        dbc.Col([\n",
    "            html.Label(\"Selecione a Criptomoeda:\"),\n",
    "            dcc.Dropdown(\n",
    "                id='crypto-dropdown',\n",
    "                options=[\n",
    "                    {'label': 'Bitcoin', 'value': 'BTC'},\n",
    "                    {'label': 'EOS', 'value': 'EOS'},\n",
    "                    {'label': 'Solana', 'value': 'SOL'}\n",
    "                ],\n",
    "                value='BTC', \n",
    "                clearable=False\n",
    "            )\n",
    "        ], width=4)\n",
    "    ]),\n",
    "    \n",
    "    dbc.Row([\n",
    "        dbc.Col(dcc.Graph(id='price-chart'), width=12)\n",
    "    ])\n",
    "])\n",
    "\n",
    "# Callback para atualizar o gráfico com base na criptomoeda selecionada\n",
    "@app.callback(\n",
    "    Output('price-chart', 'figure'),\n",
    "    [Input('crypto-dropdown', 'value')]\n",
    ")\n",
    "def update_chart(selected_crypto):\n",
    "    if selected_crypto == 'BTC':\n",
    "        df = btc_df\n",
    "    elif selected_crypto == 'EOS':\n",
    "        df = eos_df\n",
    "    else:\n",
    "        df = sol_df\n",
    "\n",
    "    # Gráfico de preços\n",
    "    fig = px.line(df, x='Date', y='Close', title=f'Preço de Fechamento - {selected_crypto}')\n",
    "    fig.update_layout(transition_duration=500)\n",
    "    \n",
    "    return fig\n",
    "\n",
    "if __name__ == '__main__':\n",
    "    app.run_server(debug=True)\n"
   ]
  }
 ],
 "metadata": {
  "kernelspec": {
   "display_name": "Python 3",
   "language": "python",
   "name": "python3"
  },
  "language_info": {
   "codemirror_mode": {
    "name": "ipython",
    "version": 3
   },
   "file_extension": ".py",
   "mimetype": "text/x-python",
   "name": "python",
   "nbconvert_exporter": "python",
   "pygments_lexer": "ipython3",
   "version": "3.12.5"
  }
 },
 "nbformat": 4,
 "nbformat_minor": 2
}
